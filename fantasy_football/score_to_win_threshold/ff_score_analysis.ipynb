{
 "cells": [
  {
   "cell_type": "code",
   "execution_count": 1,
   "metadata": {},
   "outputs": [],
   "source": [
    "import pandas as pd\n",
    "import os\n",
    "import matplotlib.pyplot as plt\n",
    "\n",
    "%matplotlib inline"
   ]
  },
  {
   "cell_type": "code",
   "execution_count": 2,
   "metadata": {},
   "outputs": [
    {
     "data": {
      "text/html": [
       "<div>\n",
       "<style scoped>\n",
       "    .dataframe tbody tr th:only-of-type {\n",
       "        vertical-align: middle;\n",
       "    }\n",
       "\n",
       "    .dataframe tbody tr th {\n",
       "        vertical-align: top;\n",
       "    }\n",
       "\n",
       "    .dataframe thead th {\n",
       "        text-align: right;\n",
       "    }\n",
       "</style>\n",
       "<table border=\"1\" class=\"dataframe\">\n",
       "  <thead>\n",
       "    <tr style=\"text-align: right;\">\n",
       "      <th></th>\n",
       "      <th>WEEK</th>\n",
       "      <th>TEAM</th>\n",
       "      <th>TEAM MANAGER</th>\n",
       "      <th>OPPONENT</th>\n",
       "      <th>OPPONENT MANAGER</th>\n",
       "      <th>TEAM SCORE</th>\n",
       "      <th>OPPONENT SCORE</th>\n",
       "      <th>RESULT</th>\n",
       "    </tr>\n",
       "  </thead>\n",
       "  <tbody>\n",
       "    <tr>\n",
       "      <th>0</th>\n",
       "      <td>1</td>\n",
       "      <td>Hurts So Good(8-6-0)</td>\n",
       "      <td>Clay Marquardt</td>\n",
       "      <td>Sacks in the City(8-6-0)</td>\n",
       "      <td>Isac Kunnath</td>\n",
       "      <td>65.50</td>\n",
       "      <td>89.08</td>\n",
       "      <td>Loss</td>\n",
       "    </tr>\n",
       "    <tr>\n",
       "      <th>1</th>\n",
       "      <td>1</td>\n",
       "      <td>Justice for JK(6-8-0)</td>\n",
       "      <td>Andrew Cafiero</td>\n",
       "      <td>Liverpool FC(8-6-0)</td>\n",
       "      <td>Jack Hurt</td>\n",
       "      <td>61.64</td>\n",
       "      <td>106.06</td>\n",
       "      <td>Loss</td>\n",
       "    </tr>\n",
       "    <tr>\n",
       "      <th>2</th>\n",
       "      <td>1</td>\n",
       "      <td>*mugshot joke goes here*(8-6-0)</td>\n",
       "      <td>Rick Kingsley</td>\n",
       "      <td>Clifton Commuters(6-8-0)</td>\n",
       "      <td>Tongil Lee</td>\n",
       "      <td>128.12</td>\n",
       "      <td>123.74</td>\n",
       "      <td>Win</td>\n",
       "    </tr>\n",
       "    <tr>\n",
       "      <th>3</th>\n",
       "      <td>1</td>\n",
       "      <td>I miss Tom Brady(4-10-0)</td>\n",
       "      <td>Tyler T</td>\n",
       "      <td>Franks Third Reich(8-6-0)</td>\n",
       "      <td>Alan Thomas</td>\n",
       "      <td>108.84</td>\n",
       "      <td>120.34</td>\n",
       "      <td>Loss</td>\n",
       "    </tr>\n",
       "    <tr>\n",
       "      <th>4</th>\n",
       "      <td>1</td>\n",
       "      <td>Something Offensive(4-10-0)</td>\n",
       "      <td>Josh Chen</td>\n",
       "      <td>Poor Men North of Richmond(8-6-0)</td>\n",
       "      <td>Jordan Haimon</td>\n",
       "      <td>71.36</td>\n",
       "      <td>92.18</td>\n",
       "      <td>Loss</td>\n",
       "    </tr>\n",
       "  </tbody>\n",
       "</table>\n",
       "</div>"
      ],
      "text/plain": [
       "   WEEK                             TEAM    TEAM MANAGER  \\\n",
       "0     1             Hurts So Good(8-6-0)  Clay Marquardt   \n",
       "1     1            Justice for JK(6-8-0)  Andrew Cafiero   \n",
       "2     1  *mugshot joke goes here*(8-6-0)   Rick Kingsley   \n",
       "3     1         I miss Tom Brady(4-10-0)         Tyler T   \n",
       "4     1      Something Offensive(4-10-0)       Josh Chen   \n",
       "\n",
       "                            OPPONENT OPPONENT MANAGER  TEAM SCORE  \\\n",
       "0           Sacks in the City(8-6-0)     Isac Kunnath       65.50   \n",
       "1                Liverpool FC(8-6-0)        Jack Hurt       61.64   \n",
       "2           Clifton Commuters(6-8-0)       Tongil Lee      128.12   \n",
       "3          Franks Third Reich(8-6-0)      Alan Thomas      108.84   \n",
       "4  Poor Men North of Richmond(8-6-0)    Jordan Haimon       71.36   \n",
       "\n",
       "   OPPONENT SCORE RESULT  \n",
       "0           89.08   Loss  \n",
       "1          106.06   Loss  \n",
       "2          123.74    Win  \n",
       "3          120.34   Loss  \n",
       "4           92.18   Loss  "
      ]
     },
     "execution_count": 2,
     "metadata": {},
     "output_type": "execute_result"
    }
   ],
   "source": [
    "df = pd.read_excel(r\"./data/All People's Fantasy Football Results 2023.xlsx\")\n",
    "df.head()"
   ]
  },
  {
   "cell_type": "code",
   "execution_count": 3,
   "metadata": {},
   "outputs": [
    {
     "data": {
      "text/html": [
       "<div>\n",
       "<style scoped>\n",
       "    .dataframe tbody tr th:only-of-type {\n",
       "        vertical-align: middle;\n",
       "    }\n",
       "\n",
       "    .dataframe tbody tr th {\n",
       "        vertical-align: top;\n",
       "    }\n",
       "\n",
       "    .dataframe thead th {\n",
       "        text-align: right;\n",
       "    }\n",
       "</style>\n",
       "<table border=\"1\" class=\"dataframe\">\n",
       "  <thead>\n",
       "    <tr style=\"text-align: right;\">\n",
       "      <th></th>\n",
       "      <th>week</th>\n",
       "      <th>team</th>\n",
       "      <th>team_manager</th>\n",
       "      <th>opponent</th>\n",
       "      <th>opponent_manager</th>\n",
       "      <th>team_score</th>\n",
       "      <th>opponent_score</th>\n",
       "      <th>result</th>\n",
       "    </tr>\n",
       "  </thead>\n",
       "  <tbody>\n",
       "    <tr>\n",
       "      <th>0</th>\n",
       "      <td>1</td>\n",
       "      <td>Hurts So Good(8-6-0)</td>\n",
       "      <td>Clay Marquardt</td>\n",
       "      <td>Sacks in the City(8-6-0)</td>\n",
       "      <td>Isac Kunnath</td>\n",
       "      <td>65.50</td>\n",
       "      <td>89.08</td>\n",
       "      <td>Loss</td>\n",
       "    </tr>\n",
       "    <tr>\n",
       "      <th>1</th>\n",
       "      <td>1</td>\n",
       "      <td>Justice for JK(6-8-0)</td>\n",
       "      <td>Andrew Cafiero</td>\n",
       "      <td>Liverpool FC(8-6-0)</td>\n",
       "      <td>Jack Hurt</td>\n",
       "      <td>61.64</td>\n",
       "      <td>106.06</td>\n",
       "      <td>Loss</td>\n",
       "    </tr>\n",
       "    <tr>\n",
       "      <th>2</th>\n",
       "      <td>1</td>\n",
       "      <td>*mugshot joke goes here*(8-6-0)</td>\n",
       "      <td>Rick Kingsley</td>\n",
       "      <td>Clifton Commuters(6-8-0)</td>\n",
       "      <td>Tongil Lee</td>\n",
       "      <td>128.12</td>\n",
       "      <td>123.74</td>\n",
       "      <td>Win</td>\n",
       "    </tr>\n",
       "    <tr>\n",
       "      <th>3</th>\n",
       "      <td>1</td>\n",
       "      <td>I miss Tom Brady(4-10-0)</td>\n",
       "      <td>Tyler T</td>\n",
       "      <td>Franks Third Reich(8-6-0)</td>\n",
       "      <td>Alan Thomas</td>\n",
       "      <td>108.84</td>\n",
       "      <td>120.34</td>\n",
       "      <td>Loss</td>\n",
       "    </tr>\n",
       "    <tr>\n",
       "      <th>4</th>\n",
       "      <td>1</td>\n",
       "      <td>Something Offensive(4-10-0)</td>\n",
       "      <td>Josh Chen</td>\n",
       "      <td>Poor Men North of Richmond(8-6-0)</td>\n",
       "      <td>Jordan Haimon</td>\n",
       "      <td>71.36</td>\n",
       "      <td>92.18</td>\n",
       "      <td>Loss</td>\n",
       "    </tr>\n",
       "  </tbody>\n",
       "</table>\n",
       "</div>"
      ],
      "text/plain": [
       "   week                             team    team_manager  \\\n",
       "0     1             Hurts So Good(8-6-0)  Clay Marquardt   \n",
       "1     1            Justice for JK(6-8-0)  Andrew Cafiero   \n",
       "2     1  *mugshot joke goes here*(8-6-0)   Rick Kingsley   \n",
       "3     1         I miss Tom Brady(4-10-0)         Tyler T   \n",
       "4     1      Something Offensive(4-10-0)       Josh Chen   \n",
       "\n",
       "                            opponent opponent_manager  team_score  \\\n",
       "0           Sacks in the City(8-6-0)     Isac Kunnath       65.50   \n",
       "1                Liverpool FC(8-6-0)        Jack Hurt       61.64   \n",
       "2           Clifton Commuters(6-8-0)       Tongil Lee      128.12   \n",
       "3          Franks Third Reich(8-6-0)      Alan Thomas      108.84   \n",
       "4  Poor Men North of Richmond(8-6-0)    Jordan Haimon       71.36   \n",
       "\n",
       "   opponent_score result  \n",
       "0           89.08   Loss  \n",
       "1          106.06   Loss  \n",
       "2          123.74    Win  \n",
       "3          120.34   Loss  \n",
       "4           92.18   Loss  "
      ]
     },
     "execution_count": 3,
     "metadata": {},
     "output_type": "execute_result"
    }
   ],
   "source": [
    "df.columns = [x.lower().replace(' ', '_') for x in df.columns]\n",
    "df.head()"
   ]
  },
  {
   "cell_type": "code",
   "execution_count": 4,
   "metadata": {},
   "outputs": [
    {
     "name": "stdout",
     "output_type": "stream",
     "text": [
      "the 0th quantile of scoring in 2023 was 56.44\n",
      "the 20th quantile of scoring in 2023 was 91.952\n",
      "the 40th quantile of scoring in 2023 was 102.68\n",
      "the 60th quantile of scoring in 2023 was 114.12\n",
      "the 80th quantile of scoring in 2023 was 128.168\n",
      "the 100th quantile of scoring in 2023 was 164.32\n"
     ]
    }
   ],
   "source": [
    "quantiles = [q / 100 for q in range(0, 101, 20)]\n",
    "for q in quantiles:\n",
    "    num = df.team_score.quantile(q)\n",
    "    print(f'the {int(q*100)}th quantile of scoring in 2023 was {num}')"
   ]
  },
  {
   "cell_type": "code",
   "execution_count": 13,
   "metadata": {},
   "outputs": [
    {
     "data": {
      "image/png": "[encoded data removed]",
      "text/plain": [
       "<Figure size 640x480 with 1 Axes>"
      ]
     },
     "metadata": {},
     "output_type": "display_data"
    }
   ],
   "source": [
    "df.team_score.hist(bins=10)\n",
    "plt.xlabel('Team Score')\n",
    "plt.ylabel('Count')\n",
    "plt.show()"
   ]
  },
  {
   "cell_type": "code",
   "execution_count": 24,
   "metadata": {},
   "outputs": [
    {
     "name": "stdout",
     "output_type": "stream",
     "text": [
      "count    168.000000\n",
      "mean     109.555357\n",
      "std       21.854245\n",
      "min       56.440000\n",
      "25%       94.900000\n",
      "50%      108.130000\n",
      "75%      123.765000\n",
      "max      164.320000\n",
      "Name: team_score, dtype: float64\n"
     ]
    },
    {
     "data": {
      "text/plain": [
       "108.13"
      ]
     },
     "execution_count": 24,
     "metadata": {},
     "output_type": "execute_result"
    }
   ],
   "source": [
    "print(df.team_score.describe())\n",
    "df.team_score.median()"
   ]
  },
  {
   "cell_type": "code",
   "execution_count": 23,
   "metadata": {},
   "outputs": [
    {
     "name": "stdout",
     "output_type": "stream",
     "text": [
      "Approx. 68% of observations fall between 87.70111259718357 and 131.40960168853076\n"
     ]
    }
   ],
   "source": [
    "sd = df.team_score.describe()['std']\n",
    "lower = df.team_score.describe()['mean'] - sd\n",
    "upper = df.team_score.describe()['mean'] + sd\n",
    "\n",
    "print(f'Approx. 68% of observations fall between {lower} and {upper}')"
   ]
  }
 ],
 "metadata": {
  "kernelspec": {
   "display_name": "Python 3",
   "language": "python",
   "name": "python3"
  },
  "language_info": {
   "codemirror_mode": {
    "name": "ipython",
    "version": 3
   },
   "file_extension": ".py",
   "mimetype": "text/x-python",
   "name": "python",
   "nbconvert_exporter": "python",
   "pygments_lexer": "ipython3",
   "version": "3.10.5"
  },
  "orig_nbformat": 4
 },
 "nbformat": 4,
 "nbformat_minor": 2
}
