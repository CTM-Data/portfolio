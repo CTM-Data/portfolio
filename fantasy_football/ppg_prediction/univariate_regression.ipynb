{
 "cells": [
  {
   "cell_type": "code",
   "execution_count": 88,
   "metadata": {},
   "outputs": [],
   "source": [
    "def predict_ppg(touch_g, pos, sd=None):\n",
    "    import pandas as pd\n",
    "    from sklearn.linear_model import LinearRegression\n",
    "    \n",
    "    if type(touch_g) is not float and type(touch_g) is not int:\n",
    "        raise Exception('improper dtype for para \"touch_g\"')\n",
    "    elif type(pos) is not str:\n",
    "        raise Exception('improper dtype for param \"pos\"')\n",
    "    elif pos.upper() not in ['RB', 'WR', 'TE']:\n",
    "        raise Exception('\"pos\" argument not valid. expected RB, WR, or TE')\n",
    "    elif sd and type(sd) is not float and type(sd) is not int: \n",
    "        raise Exception('improper dtype for param \"sd\"')\n",
    "\n",
    "    pos = pos.upper()\n",
    "    \n",
    "    df = pd.read_csv('./data/fantasy_merged_7_17.csv')\n",
    "    df['Touch_g'] = (df.RushAtt + df.Tgt) / df.G\n",
    "    df['PPR_g'] = df.PPR / df.G\n",
    "    rank_filter = ((df.FantPos == 'RB') & (df.PosRk <= 36)) | ((df.FantPos == 'WR') & (df.PosRk <= 48)) | ((df.FantPos == 'TE') & (df.PosRk <= 24))\n",
    "    df = df[rank_filter].reset_index(drop=True)\n",
    "\n",
    "    if pos == 'RB':\n",
    "        rb = LinearRegression()\n",
    "        rb_x = df.loc[df.FantPos == 'RB', ['Touch_g']]\n",
    "        rb_y = df.loc[df.FantPos == 'RB', ['PPR_g']]\n",
    "        rb.fit(rb_x, rb_y)\n",
    "        if sd: \n",
    "            lower = rb.predict([[touch_g-sd]])\n",
    "            upper = rb.predict([[touch_g+sd]])\n",
    "            return (lower, upper)\n",
    "        else:\n",
    "            return rb.predict([[touch_g]])\n",
    "    \n",
    "    elif pos == 'WR':\n",
    "        wr = LinearRegression()\n",
    "        wr_x = df.loc[df.FantPos == 'WR', ['Touch_g']]\n",
    "        wr_y = df.loc[df.FantPos == 'WR', ['PPR_g']]\n",
    "        wr.fit(wr_x, wr_y)\n",
    "        if sd:\n",
    "            lower = wr.predict([[touch_g-sd]])\n",
    "            upper = wr.predict([[touch_g+sd]])\n",
    "            return (lower, upper)\n",
    "        else:\n",
    "            return wr.predict([[touch_g]])\n",
    "    \n",
    "    elif pos == 'TE':\n",
    "        te = LinearRegression()\n",
    "        te_x = df.loc[df.FantPos == 'TE', ['Touch_g']]\n",
    "        te_y = df.loc[df.FantPos == 'TE', ['PPR_g']]\n",
    "        te.fit(te_x, te_y)\n",
    "        if sd:\n",
    "            lower = te.predict([[touch_g-sd]])\n",
    "            upper = te.predict([[touch_g+sd]])\n",
    "            return (lower, upper)\n",
    "        else:\n",
    "            return te.predict([[touch_g]])"
   ]
  },
  {
   "cell_type": "code",
   "execution_count": 89,
   "metadata": {},
   "outputs": [],
   "source": [
    "# enter your players here "
   ]
  }
 ],
 "metadata": {
  "kernelspec": {
   "display_name": "Python 3",
   "language": "python",
   "name": "python3"
  },
  "language_info": {
   "codemirror_mode": {
    "name": "ipython",
    "version": 3
   },
   "file_extension": ".py",
   "mimetype": "text/x-python",
   "name": "python",
   "nbconvert_exporter": "python",
   "pygments_lexer": "ipython3",
   "version": "3.10.5"
  }
 },
 "nbformat": 4,
 "nbformat_minor": 2
}
